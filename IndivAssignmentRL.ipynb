{
  "nbformat": 4,
  "nbformat_minor": 0,
  "metadata": {
    "colab": {
      "provenance": []
    },
    "kernelspec": {
      "name": "python3",
      "display_name": "Python 3"
    },
    "language_info": {
      "name": "python"
    }
  },
  "cells": [
    {
      "cell_type": "code",
      "execution_count": 1,
      "metadata": {
        "id": "ld8AX8P1Wz3I"
      },
      "outputs": [],
      "source": [
        "!pip install --quiet torch torchvision torchaudio\n",
        "\n",
        "import random\n",
        "import math\n",
        "import numpy as np\n",
        "import matplotlib.pyplot as plt\n",
        "from collections import deque, namedtuple\n",
        "import torch\n",
        "import torch.nn as nn\n",
        "import torch.optim as optim\n",
        "from tqdm import trange, tqdm\n",
        "import os\n"
      ]
    },
    {
      "cell_type": "code",
      "source": [
        "SEED = 42\n",
        "random.seed(SEED)\n",
        "np.random.seed(SEED)\n",
        "torch.manual_seed(SEED)\n",
        "if torch.cuda.is_available():\n",
        "    device = torch.device(\"cuda\")\n",
        "else:\n",
        "    device = torch.device(\"cpu\")\n",
        "print(\"Device:\", device)\n"
      ],
      "metadata": {
        "colab": {
          "base_uri": "https://localhost:8080/"
        },
        "id": "C6mv_3gQW3zC",
        "outputId": "410aacab-26e3-4cd0-ed24-bf23089a87e6"
      },
      "execution_count": 2,
      "outputs": [
        {
          "output_type": "stream",
          "name": "stdout",
          "text": [
            "Device: cpu\n"
          ]
        }
      ]
    },
    {
      "cell_type": "code",
      "source": [
        "class GridworldEnv:\n",
        "    \"\"\"\n",
        "    3 x 4 gridworld, 0-indexed rows (0..2) top to bottom, cols (0..3) left to right.\n",
        "    Example layout (rows x cols):\n",
        "     (0,0) (0,1) (0,2) (0,3)\n",
        "     (1,0) (1,1) (1,2) (1,3)\n",
        "     (2,0) (2,1) (2,2) (2,3)\n",
        "    We'll set terminals at chosen positions; you can change positions easily.\n",
        "    \"\"\"\n",
        "    def __init__(self, rows=3, cols=4, terminal_pos_goal=(0,3), terminal_pos_trap=(1,3),\n",
        "                 step_reward=-0.04, goal_reward=1.0, trap_reward=-1.0, seed=SEED):\n",
        "        self.rows = rows\n",
        "        self.cols = cols\n",
        "        self.state_size = rows * cols\n",
        "        self.action_size = 4  # N, S, E, W\n",
        "        self.step_reward = step_reward\n",
        "        self.goal_reward = goal_reward\n",
        "        self.trap_reward = trap_reward\n",
        "        self.terminal_goal = terminal_pos_goal\n",
        "        self.terminal_trap = terminal_pos_trap\n",
        "        self.seed = seed\n",
        "        random.seed(seed)\n",
        "        np.random.seed(seed)\n",
        "        self.reset()\n",
        "        self.action2delta = {0:(-1,0),1:(1,0),2:(0,1),3:(0,-1)}\n",
        "\n",
        "    def _pos_to_index(self, pos):\n",
        "        r,c = pos\n",
        "        return r*self.cols + c\n",
        "\n",
        "    def _index_to_pos(self, idx):\n",
        "        r = idx // self.cols\n",
        "        c = idx % self.cols\n",
        "        return (r,c)\n",
        "\n",
        "    def is_terminal_pos(self, pos):\n",
        "        return pos == self.terminal_goal or pos == self.terminal_trap\n",
        "\n",
        "    def reset(self, start_pos=(2,0)):\n",
        "        # default start: bottom-left (2,0) typical in gridworld examples\n",
        "        self.agent_pos = start_pos\n",
        "        self.done = False\n",
        "        return self._state()\n",
        "\n",
        "    def _state(self):\n",
        "        # one-hot representation of length state_size\n",
        "        idx = self._pos_to_index(self.agent_pos)\n",
        "        vec = np.zeros(self.state_size, dtype=np.float32)\n",
        "        vec[idx] = 1.0\n",
        "        return vec\n",
        "\n",
        "    def step(self, action):\n",
        "        \"\"\"\n",
        "        Action is intended direction. Transitions: intended 0.8, left/right 0.1 each.\n",
        "        Left/right here are relative to the intended; for N: left=W, right=E; for E: left=N, right=S.\n",
        "        \"\"\"\n",
        "        if self.done:\n",
        "            return self._state(), 0.0, True, {}\n",
        "\n",
        "        left_of = {0:3, 1:2, 2:0, 3:1}\n",
        "        right_of = {0:2, 1:3, 2:1, 3:0}\n",
        "\n",
        "        probs = [0.0]*4\n",
        "        probs[action] += 0.8\n",
        "        probs[left_of[action]] += 0.1\n",
        "        probs[right_of[action]] += 0.1\n",
        "\n",
        "        actions = [0,1,2,3]\n",
        "        chosen = random.choices(actions, weights=probs, k=1)[0]\n",
        "\n",
        "        delta = self.action2delta[chosen]\n",
        "        new_r = self.agent_pos[0] + delta[0]\n",
        "        new_c = self.agent_pos[1] + delta[1]\n",
        "\n",
        "        if not (0 <= new_r < self.rows and 0 <= new_c < self.cols):\n",
        "            new_pos = self.agent_pos\n",
        "        else:\n",
        "            new_pos = (new_r, new_c)\n",
        "\n",
        "        self.agent_pos = new_pos\n",
        "\n",
        "        if self.agent_pos == self.terminal_goal:\n",
        "            reward = self.goal_reward\n",
        "            self.done = True\n",
        "        elif self.agent_pos == self.terminal_trap:\n",
        "            reward = self.trap_reward\n",
        "            self.done = True\n",
        "        else:\n",
        "            reward = self.step_reward\n",
        "\n",
        "        return self._state(), float(reward), bool(self.done), {}\n",
        "\n",
        "    def sample_random_state(self):\n",
        "        while True:\n",
        "            r = random.randrange(self.rows)\n",
        "            c = random.randrange(self.cols)\n",
        "            if not self.is_terminal_pos((r,c)):\n",
        "                pos = (r,c)\n",
        "                idx = self._pos_to_index(pos)\n",
        "                vec = np.zeros(self.state_size, dtype=np.float32)\n",
        "                vec[idx] = 1.0\n",
        "                return vec\n"
      ],
      "metadata": {
        "id": "4m-KVvthW8Lu"
      },
      "execution_count": 3,
      "outputs": []
    },
    {
      "cell_type": "code",
      "source": [
        "Transition = namedtuple('Transition', ('state','action','reward','next_state','done'))\n",
        "\n",
        "class ReplayBuffer:\n",
        "    def __init__(self, capacity):\n",
        "        self.buffer = deque(maxlen=capacity)\n",
        "\n",
        "    def push(self, *args):\n",
        "        self.buffer.append(Transition(*args))\n",
        "\n",
        "    def sample(self, batch_size):\n",
        "        batch = random.sample(self.buffer, batch_size)\n",
        "        # convert to tensors\n",
        "        states = torch.tensor(np.stack([b.state for b in batch]), dtype=torch.float32, device=device)\n",
        "        actions = torch.tensor([b.action for b in batch], dtype=torch.long, device=device).unsqueeze(1)\n",
        "        rewards = torch.tensor([b.reward for b in batch], dtype=torch.float32, device=device).unsqueeze(1)\n",
        "        next_states = torch.tensor(np.stack([b.next_state for b in batch]), dtype=torch.float32, device=device)\n",
        "        dones = torch.tensor([b.done for b in batch], dtype=torch.float32, device=device).unsqueeze(1)\n",
        "        return states, actions, rewards, next_states, dones\n",
        "\n",
        "    def __len__(self):\n",
        "        return len(self.buffer)\n"
      ],
      "metadata": {
        "id": "-agbq1CjXAMa"
      },
      "execution_count": 4,
      "outputs": []
    },
    {
      "cell_type": "code",
      "source": [
        "class QNetwork(nn.Module):\n",
        "    def __init__(self, state_dim, action_dim, hidden_sizes=[64,64]):\n",
        "        super(QNetwork, self).__init__()\n",
        "        layers = []\n",
        "        last = state_dim\n",
        "        for h in hidden_sizes:\n",
        "            layers.append(nn.Linear(last, h))\n",
        "            layers.append(nn.ReLU())\n",
        "            last = h\n",
        "        layers.append(nn.Linear(last, action_dim))\n",
        "        self.net = nn.Sequential(*layers)\n",
        "        # init\n",
        "        for m in self.net:\n",
        "            if isinstance(m, nn.Linear):\n",
        "                nn.init.kaiming_uniform_(m.weight, nonlinearity='relu')\n",
        "                if m.bias is not None:\n",
        "                    nn.init.constant_(m.bias, 0.0)\n",
        "\n",
        "    def forward(self, x):\n",
        "        return self.net(x)\n"
      ],
      "metadata": {
        "id": "c6fptAyEXB-N"
      },
      "execution_count": 5,
      "outputs": []
    },
    {
      "cell_type": "code",
      "source": [
        "env = GridworldEnv()\n",
        "state_dim = env.state_size\n",
        "action_dim = env.action_size\n",
        "\n",
        "params = {\n",
        "    \"episodes\": 2000,\n",
        "    \"max_steps\": 100,\n",
        "    \"batch_size\": 64,\n",
        "    \"gamma\": 0.99,\n",
        "    \"lr\": 1e-3,\n",
        "    \"replay_capacity\": 10000,\n",
        "    \"start_learning_after\": 1000,  # steps\n",
        "    \"update_every\": 1,             # update on every step after start\n",
        "    \"target_update_freq\": 100,     # sync target every N gradient steps\n",
        "    \"epsilon_start\": 1.0,\n",
        "    \"epsilon_end\": 0.05,\n",
        "    \"epsilon_decay_episodes\": 1000,\n",
        "    \"hidden_sizes\": [64,64],\n",
        "    \"eval_every\": 50,\n",
        "    \"n_eval_episodes\": 20\n",
        "}\n",
        "params\n"
      ],
      "metadata": {
        "colab": {
          "base_uri": "https://localhost:8080/"
        },
        "id": "6wstdBTHXDmb",
        "outputId": "c96a8bb0-656e-4360-d414-198758c6e570"
      },
      "execution_count": 6,
      "outputs": [
        {
          "output_type": "execute_result",
          "data": {
            "text/plain": [
              "{'episodes': 2000,\n",
              " 'max_steps': 100,\n",
              " 'batch_size': 64,\n",
              " 'gamma': 0.99,\n",
              " 'lr': 0.001,\n",
              " 'replay_capacity': 10000,\n",
              " 'start_learning_after': 1000,\n",
              " 'update_every': 1,\n",
              " 'target_update_freq': 100,\n",
              " 'epsilon_start': 1.0,\n",
              " 'epsilon_end': 0.05,\n",
              " 'epsilon_decay_episodes': 1000,\n",
              " 'hidden_sizes': [64, 64],\n",
              " 'eval_every': 50,\n",
              " 'n_eval_episodes': 20}"
            ]
          },
          "metadata": {},
          "execution_count": 6
        }
      ]
    },
    {
      "cell_type": "code",
      "source": [
        "# Cell 7 — Training function (DQN-style)\n",
        "def linear_epsilon(episode, start, end, decay_episodes):\n",
        "    if episode >= decay_episodes:\n",
        "        return end\n",
        "    else:\n",
        "        return start + (end-start) * (episode/decay_episodes)\n",
        "\n",
        "def evaluate_policy(qnet, env, n_episodes=20, max_steps=100):\n",
        "    qnet.eval()\n",
        "    returns = []\n",
        "    success = 0\n",
        "    for _ in range(n_episodes):\n",
        "        s = env.reset()\n",
        "        total = 0.0\n",
        "        for step in range(max_steps):\n",
        "            s_t = torch.tensor(s, dtype=torch.float32, device=device).unsqueeze(0)\n",
        "            with torch.no_grad():\n",
        "                qvals = qnet(s_t)\n",
        "            action = int(torch.argmax(qvals, dim=1).item())\n",
        "            s, r, done, _ = env.step(action)\n",
        "            total += r\n",
        "            if done:\n",
        "                if r == env.goal_reward:\n",
        "                    success += 1\n",
        "                break\n",
        "        returns.append(total)\n",
        "    qnet.train()\n",
        "    return np.mean(returns), np.std(returns), success / n_episodes\n",
        "\n",
        "def train_dqn(params, verbose=True):\n",
        "    # create networks, optimizer, buffer\n",
        "    Q = QNetwork(state_dim, action_dim, hidden_sizes=params['hidden_sizes']).to(device)\n",
        "    Q_target = QNetwork(state_dim, action_dim, hidden_sizes=params['hidden_sizes']).to(device)\n",
        "    Q_target.load_state_dict(Q.state_dict())\n",
        "    optimizer = optim.Adam(Q.parameters(), lr=params['lr'])\n",
        "    buffer = ReplayBuffer(params['replay_capacity'])\n",
        "\n",
        "    all_train_returns = []\n",
        "    all_eval_returns = []\n",
        "    losses = []\n",
        "    steps = 0\n",
        "    grad_steps = 0\n",
        "\n",
        "    # pre-fill some random transitions\n",
        "    # Not strictly necessary; we'll fill via interactions\n",
        "    for ep in trange(params['episodes'], desc=\"Episodes\"):\n",
        "        s = env.reset()\n",
        "        episode_return = 0.0\n",
        "        eps = linear_epsilon(ep, params['epsilon_start'], params['epsilon_end'], params['epsilon_decay_episodes'])\n",
        "\n",
        "        for t in range(params['max_steps']):\n",
        "            # epsilon greedy\n",
        "            if random.random() < eps:\n",
        "                a = random.randrange(action_dim)\n",
        "            else:\n",
        "                with torch.no_grad():\n",
        "                    s_t = torch.tensor(s, dtype=torch.float32, device=device).unsqueeze(0)\n",
        "                    qvals = Q(s_t)\n",
        "                    a = int(torch.argmax(qvals, dim=1).item())\n",
        "\n",
        "            s2, r, done, _ = env.step(a)\n",
        "            buffer.push(s, a, r, s2, done)\n",
        "            episode_return += r\n",
        "            s = s2\n",
        "            steps += 1\n",
        "\n",
        "            # learning\n",
        "            if len(buffer) >= params['batch_size'] and steps >= params['start_learning_after']:\n",
        "                # perform update\n",
        "                states, actions, rewards, next_states, dones = buffer.sample(params['batch_size'])\n",
        "                # compute targets\n",
        "                with torch.no_grad():\n",
        "                    q_next = Q_target(next_states)\n",
        "                    max_q_next, _ = torch.max(q_next, dim=1, keepdim=True)\n",
        "                    targets = rewards + (1.0 - dones) * params['gamma'] * max_q_next\n",
        "                q_values = Q(states).gather(1, actions)\n",
        "                loss = nn.MSELoss()(q_values, targets)\n",
        "\n",
        "                optimizer.zero_grad()\n",
        "                loss.backward()\n",
        "                optimizer.step()\n",
        "                losses.append(loss.item())\n",
        "                grad_steps += 1\n",
        "\n",
        "                # target update\n",
        "                if grad_steps % params['target_update_freq'] == 0:\n",
        "                    Q_target.load_state_dict(Q.state_dict())\n",
        "\n",
        "            if done:\n",
        "                break\n",
        "\n",
        "        all_train_returns.append(episode_return)\n",
        "\n",
        "        # periodic evaluation\n",
        "        if (ep % params['eval_every'] == 0) or (ep == params['episodes']-1):\n",
        "            mean_ret, std_ret, succ = evaluate_policy(Q, env, n_episodes=params['n_eval_episodes'], max_steps=params['max_steps'])\n",
        "            all_eval_returns.append((ep, mean_ret, std_ret, succ))\n",
        "            if verbose:\n",
        "                print(f\"Ep {ep:4d} | eps {eps:.3f} | train_ret {episode_return:.3f} | eval_mean {mean_ret:.3f} | success {succ:.2f}\")\n",
        "\n",
        "    # package results\n",
        "    results = {\n",
        "        'train_returns': np.array(all_train_returns),\n",
        "        'eval_returns': all_eval_returns,\n",
        "        'losses': np.array(losses),\n",
        "        'Q': Q,\n",
        "        'Q_target': Q_target\n",
        "    }\n",
        "    return results\n",
        "\n",
        "# Run training (this will take a few minutes on CPU, faster on GPU)\n",
        "results = train_dqn(params)\n"
      ],
      "metadata": {
        "colab": {
          "base_uri": "https://localhost:8080/"
        },
        "id": "CB8T71eAXFeV",
        "outputId": "c6dfb83f-1d6d-4c5d-a0a0-86e353f0689d"
      },
      "execution_count": 7,
      "outputs": [
        {
          "output_type": "stream",
          "name": "stderr",
          "text": [
            "Episodes:   2%|▏         | 38/2000 [00:00<00:14, 133.22it/s]"
          ]
        },
        {
          "output_type": "stream",
          "name": "stdout",
          "text": [
            "Ep    0 | eps 1.000 | train_ret 0.440 | eval_mean -4.000 | success 0.00\n"
          ]
        },
        {
          "output_type": "stream",
          "name": "stderr",
          "text": [
            "\rEpisodes:   3%|▎         | 56/2000 [00:01<00:44, 44.18it/s] "
          ]
        },
        {
          "output_type": "stream",
          "name": "stdout",
          "text": [
            "Ep   50 | eps 0.953 | train_ret -0.640 | eval_mean 0.772 | success 1.00\n"
          ]
        },
        {
          "output_type": "stream",
          "name": "stderr",
          "text": [
            "Episodes:   5%|▌         | 103/2000 [00:04<02:39, 11.92it/s]"
          ]
        },
        {
          "output_type": "stream",
          "name": "stdout",
          "text": [
            "Ep  100 | eps 0.905 | train_ret 0.600 | eval_mean 0.732 | success 1.00\n"
          ]
        },
        {
          "output_type": "stream",
          "name": "stderr",
          "text": [
            "Episodes:   8%|▊         | 154/2000 [00:07<01:37, 19.02it/s]"
          ]
        },
        {
          "output_type": "stream",
          "name": "stdout",
          "text": [
            "Ep  150 | eps 0.858 | train_ret -0.040 | eval_mean 0.482 | success 1.00\n"
          ]
        },
        {
          "output_type": "stream",
          "name": "stderr",
          "text": [
            "Episodes:  10%|█         | 207/2000 [00:11<01:22, 21.74it/s]"
          ]
        },
        {
          "output_type": "stream",
          "name": "stdout",
          "text": [
            "Ep  200 | eps 0.810 | train_ret 0.640 | eval_mean 0.770 | success 1.00\n"
          ]
        },
        {
          "output_type": "stream",
          "name": "stderr",
          "text": [
            "Episodes:  13%|█▎        | 254/2000 [00:13<01:12, 23.94it/s]"
          ]
        },
        {
          "output_type": "stream",
          "name": "stdout",
          "text": [
            "Ep  250 | eps 0.762 | train_ret 0.640 | eval_mean 0.392 | success 1.00\n"
          ]
        },
        {
          "output_type": "stream",
          "name": "stderr",
          "text": [
            "Episodes:  15%|█▌        | 303/2000 [00:16<01:30, 18.67it/s]"
          ]
        },
        {
          "output_type": "stream",
          "name": "stdout",
          "text": [
            "Ep  300 | eps 0.715 | train_ret -0.560 | eval_mean 0.674 | success 0.95\n"
          ]
        },
        {
          "output_type": "stream",
          "name": "stderr",
          "text": [
            "Episodes:  18%|█▊        | 357/2000 [00:18<00:54, 29.93it/s]"
          ]
        },
        {
          "output_type": "stream",
          "name": "stdout",
          "text": [
            "Ep  350 | eps 0.667 | train_ret 0.320 | eval_mean 0.602 | success 0.90\n"
          ]
        },
        {
          "output_type": "stream",
          "name": "stderr",
          "text": [
            "Episodes:  20%|██        | 404/2000 [00:20<01:28, 18.00it/s]"
          ]
        },
        {
          "output_type": "stream",
          "name": "stdout",
          "text": [
            "Ep  400 | eps 0.620 | train_ret 0.320 | eval_mean 0.456 | success 1.00\n"
          ]
        },
        {
          "output_type": "stream",
          "name": "stderr",
          "text": [
            "Episodes:  23%|██▎       | 454/2000 [00:22<00:45, 33.95it/s]"
          ]
        },
        {
          "output_type": "stream",
          "name": "stdout",
          "text": [
            "Ep  450 | eps 0.573 | train_ret 0.840 | eval_mean 0.768 | success 1.00\n"
          ]
        },
        {
          "output_type": "stream",
          "name": "stderr",
          "text": [
            "Episodes:  25%|██▌       | 506/2000 [00:24<00:47, 31.17it/s]"
          ]
        },
        {
          "output_type": "stream",
          "name": "stdout",
          "text": [
            "Ep  500 | eps 0.525 | train_ret 0.760 | eval_mean 0.782 | success 1.00\n"
          ]
        },
        {
          "output_type": "stream",
          "name": "stderr",
          "text": [
            "Episodes:  28%|██▊       | 558/2000 [00:25<00:44, 32.27it/s]"
          ]
        },
        {
          "output_type": "stream",
          "name": "stdout",
          "text": [
            "Ep  550 | eps 0.478 | train_ret 0.760 | eval_mean 0.790 | success 1.00\n"
          ]
        },
        {
          "output_type": "stream",
          "name": "stderr",
          "text": [
            "Episodes:  30%|███       | 606/2000 [00:26<00:27, 50.31it/s]"
          ]
        },
        {
          "output_type": "stream",
          "name": "stdout",
          "text": [
            "Ep  600 | eps 0.430 | train_ret 0.840 | eval_mean 0.802 | success 1.00\n"
          ]
        },
        {
          "output_type": "stream",
          "name": "stderr",
          "text": [
            "Episodes:  33%|███▎      | 653/2000 [00:28<00:47, 28.33it/s]"
          ]
        },
        {
          "output_type": "stream",
          "name": "stdout",
          "text": [
            "Ep  650 | eps 0.383 | train_ret 0.800 | eval_mean 0.498 | success 1.00\n"
          ]
        },
        {
          "output_type": "stream",
          "name": "stderr",
          "text": [
            "Episodes:  35%|███▌      | 708/2000 [00:30<00:27, 47.56it/s]"
          ]
        },
        {
          "output_type": "stream",
          "name": "stdout",
          "text": [
            "Ep  700 | eps 0.335 | train_ret 0.840 | eval_mean 0.790 | success 1.00\n"
          ]
        },
        {
          "output_type": "stream",
          "name": "stderr",
          "text": [
            "Episodes:  38%|███▊      | 755/2000 [00:31<00:37, 33.12it/s]"
          ]
        },
        {
          "output_type": "stream",
          "name": "stdout",
          "text": [
            "Ep  750 | eps 0.288 | train_ret 0.560 | eval_mean 0.690 | success 0.95\n"
          ]
        },
        {
          "output_type": "stream",
          "name": "stderr",
          "text": [
            "Episodes:  41%|████      | 811/2000 [00:32<00:23, 51.57it/s]"
          ]
        },
        {
          "output_type": "stream",
          "name": "stdout",
          "text": [
            "Ep  800 | eps 0.240 | train_ret -1.240 | eval_mean 0.672 | success 0.95\n"
          ]
        },
        {
          "output_type": "stream",
          "name": "stderr",
          "text": [
            "Episodes:  43%|████▎     | 857/2000 [00:33<00:20, 55.36it/s]"
          ]
        },
        {
          "output_type": "stream",
          "name": "stdout",
          "text": [
            "Ep  850 | eps 0.193 | train_ret 0.720 | eval_mean 0.684 | success 0.95\n"
          ]
        },
        {
          "output_type": "stream",
          "name": "stderr",
          "text": [
            "Episodes:  45%|████▌     | 905/2000 [00:34<00:31, 35.09it/s]"
          ]
        },
        {
          "output_type": "stream",
          "name": "stdout",
          "text": [
            "Ep  900 | eps 0.145 | train_ret 0.760 | eval_mean 0.666 | success 0.95\n"
          ]
        },
        {
          "output_type": "stream",
          "name": "stderr",
          "text": [
            "Episodes:  48%|████▊     | 958/2000 [00:35<00:17, 59.43it/s]"
          ]
        },
        {
          "output_type": "stream",
          "name": "stdout",
          "text": [
            "Ep  950 | eps 0.098 | train_ret 0.760 | eval_mean 0.794 | success 1.00\n"
          ]
        },
        {
          "output_type": "stream",
          "name": "stderr",
          "text": [
            "Episodes:  50%|█████     | 1009/2000 [00:36<00:16, 59.24it/s]"
          ]
        },
        {
          "output_type": "stream",
          "name": "stdout",
          "text": [
            "Ep 1000 | eps 0.050 | train_ret 0.640 | eval_mean 0.776 | success 1.00\n"
          ]
        },
        {
          "output_type": "stream",
          "name": "stderr",
          "text": [
            "Episodes:  53%|█████▎    | 1052/2000 [00:37<00:25, 36.47it/s]"
          ]
        },
        {
          "output_type": "stream",
          "name": "stdout",
          "text": [
            "Ep 1050 | eps 0.050 | train_ret 0.680 | eval_mean 0.304 | success 1.00\n"
          ]
        },
        {
          "output_type": "stream",
          "name": "stderr",
          "text": [
            "Episodes:  56%|█████▌    | 1111/2000 [00:38<00:15, 58.18it/s]"
          ]
        },
        {
          "output_type": "stream",
          "name": "stdout",
          "text": [
            "Ep 1100 | eps 0.050 | train_ret 0.840 | eval_mean 0.710 | success 1.00\n"
          ]
        },
        {
          "output_type": "stream",
          "name": "stderr",
          "text": [
            "Episodes:  58%|█████▊    | 1162/2000 [00:39<00:13, 62.51it/s]"
          ]
        },
        {
          "output_type": "stream",
          "name": "stdout",
          "text": [
            "Ep 1150 | eps 0.050 | train_ret 0.680 | eval_mean 0.758 | success 1.00\n"
          ]
        },
        {
          "output_type": "stream",
          "name": "stderr",
          "text": [
            "Episodes:  60%|██████    | 1207/2000 [00:40<00:19, 40.41it/s]"
          ]
        },
        {
          "output_type": "stream",
          "name": "stdout",
          "text": [
            "Ep 1200 | eps 0.050 | train_ret 0.680 | eval_mean 0.804 | success 1.00\n"
          ]
        },
        {
          "output_type": "stream",
          "name": "stderr",
          "text": [
            "Episodes:  63%|██████▎   | 1256/2000 [00:41<00:15, 47.09it/s]"
          ]
        },
        {
          "output_type": "stream",
          "name": "stdout",
          "text": [
            "Ep 1250 | eps 0.050 | train_ret 0.760 | eval_mean 0.754 | success 1.00\n"
          ]
        },
        {
          "output_type": "stream",
          "name": "stderr",
          "text": [
            "Episodes:  65%|██████▌   | 1306/2000 [00:42<00:14, 48.12it/s]"
          ]
        },
        {
          "output_type": "stream",
          "name": "stdout",
          "text": [
            "Ep 1300 | eps 0.050 | train_ret 0.760 | eval_mean 0.768 | success 1.00\n"
          ]
        },
        {
          "output_type": "stream",
          "name": "stderr",
          "text": [
            "Episodes:  68%|██████▊   | 1362/2000 [00:43<00:11, 55.08it/s]"
          ]
        },
        {
          "output_type": "stream",
          "name": "stdout",
          "text": [
            "Ep 1350 | eps 0.050 | train_ret 0.760 | eval_mean 0.764 | success 1.00\n"
          ]
        },
        {
          "output_type": "stream",
          "name": "stderr",
          "text": [
            "Episodes:  71%|███████   | 1414/2000 [00:44<00:09, 63.44it/s]"
          ]
        },
        {
          "output_type": "stream",
          "name": "stdout",
          "text": [
            "Ep 1400 | eps 0.050 | train_ret 0.800 | eval_mean 0.808 | success 1.00\n"
          ]
        },
        {
          "output_type": "stream",
          "name": "stderr",
          "text": [
            "Episodes:  73%|███████▎  | 1458/2000 [00:44<00:09, 60.04it/s]"
          ]
        },
        {
          "output_type": "stream",
          "name": "stdout",
          "text": [
            "Ep 1450 | eps 0.050 | train_ret 0.800 | eval_mean 0.768 | success 1.00\n"
          ]
        },
        {
          "output_type": "stream",
          "name": "stderr",
          "text": [
            "Episodes:  76%|███████▌  | 1512/2000 [00:46<00:09, 53.36it/s]"
          ]
        },
        {
          "output_type": "stream",
          "name": "stdout",
          "text": [
            "Ep 1500 | eps 0.050 | train_ret 0.840 | eval_mean 0.784 | success 1.00\n"
          ]
        },
        {
          "output_type": "stream",
          "name": "stderr",
          "text": [
            "Episodes:  78%|███████▊  | 1563/2000 [00:46<00:06, 63.71it/s]"
          ]
        },
        {
          "output_type": "stream",
          "name": "stdout",
          "text": [
            "Ep 1550 | eps 0.050 | train_ret 0.680 | eval_mean 0.712 | success 1.00\n"
          ]
        },
        {
          "output_type": "stream",
          "name": "stderr",
          "text": [
            "Episodes:  80%|████████  | 1610/2000 [00:47<00:05, 68.60it/s]"
          ]
        },
        {
          "output_type": "stream",
          "name": "stdout",
          "text": [
            "Ep 1600 | eps 0.050 | train_ret 0.760 | eval_mean 0.776 | success 1.00\n"
          ]
        },
        {
          "output_type": "stream",
          "name": "stderr",
          "text": [
            "Episodes:  83%|████████▎ | 1663/2000 [00:48<00:05, 62.13it/s]"
          ]
        },
        {
          "output_type": "stream",
          "name": "stdout",
          "text": [
            "Ep 1650 | eps 0.050 | train_ret 0.840 | eval_mean 0.786 | success 1.00\n"
          ]
        },
        {
          "output_type": "stream",
          "name": "stderr",
          "text": [
            "Episodes:  85%|████████▌ | 1706/2000 [00:49<00:07, 37.49it/s]"
          ]
        },
        {
          "output_type": "stream",
          "name": "stdout",
          "text": [
            "Ep 1700 | eps 0.050 | train_ret 0.840 | eval_mean 0.760 | success 1.00\n"
          ]
        },
        {
          "output_type": "stream",
          "name": "stderr",
          "text": [
            "Episodes:  88%|████████▊ | 1758/2000 [00:50<00:03, 65.59it/s]"
          ]
        },
        {
          "output_type": "stream",
          "name": "stdout",
          "text": [
            "Ep 1750 | eps 0.050 | train_ret 0.760 | eval_mean 0.764 | success 1.00\n"
          ]
        },
        {
          "output_type": "stream",
          "name": "stderr",
          "text": [
            "Episodes:  90%|█████████ | 1809/2000 [00:50<00:02, 65.79it/s]"
          ]
        },
        {
          "output_type": "stream",
          "name": "stdout",
          "text": [
            "Ep 1800 | eps 0.050 | train_ret 0.840 | eval_mean 0.702 | success 1.00\n"
          ]
        },
        {
          "output_type": "stream",
          "name": "stderr",
          "text": [
            "Episodes:  93%|█████████▎| 1858/2000 [00:51<00:02, 55.14it/s]"
          ]
        },
        {
          "output_type": "stream",
          "name": "stdout",
          "text": [
            "Ep 1850 | eps 0.050 | train_ret 0.800 | eval_mean 0.748 | success 1.00\n"
          ]
        },
        {
          "output_type": "stream",
          "name": "stderr",
          "text": [
            "Episodes:  95%|█████████▌| 1907/2000 [00:52<00:02, 44.82it/s]"
          ]
        },
        {
          "output_type": "stream",
          "name": "stdout",
          "text": [
            "Ep 1900 | eps 0.050 | train_ret 0.520 | eval_mean 0.570 | success 0.90\n"
          ]
        },
        {
          "output_type": "stream",
          "name": "stderr",
          "text": [
            "Episodes:  98%|█████████▊| 1956/2000 [00:53<00:00, 44.77it/s]"
          ]
        },
        {
          "output_type": "stream",
          "name": "stdout",
          "text": [
            "Ep 1950 | eps 0.050 | train_ret 0.760 | eval_mean 0.728 | success 1.00\n"
          ]
        },
        {
          "output_type": "stream",
          "name": "stderr",
          "text": [
            "Episodes: 100%|██████████| 2000/2000 [00:54<00:00, 36.51it/s]"
          ]
        },
        {
          "output_type": "stream",
          "name": "stdout",
          "text": [
            "Ep 1999 | eps 0.050 | train_ret 0.720 | eval_mean 0.768 | success 1.00\n"
          ]
        },
        {
          "output_type": "stream",
          "name": "stderr",
          "text": [
            "\n"
          ]
        }
      ]
    },
    {
      "cell_type": "code",
      "source": [
        "# Cell 8 — Plot learning curves\n",
        "train_returns = results['train_returns']\n",
        "losses = results['losses']\n",
        "eval_returns = results['eval_returns']\n",
        "\n",
        "# Plot 1: moving-average of returns\n",
        "def moving_average(x, w=20):\n",
        "    if len(x) < w:\n",
        "        return x\n",
        "    return np.convolve(x, np.ones(w)/w, mode='valid')\n",
        "\n",
        "plt.figure(figsize=(10,4))\n",
        "plt.subplot(1,2,1)\n",
        "plt.plot(train_returns, label='Episode return')\n",
        "ma = moving_average(train_returns, 20)\n",
        "plt.plot(range(len(ma)), ma, label='MA(20)')\n",
        "plt.xlabel('Episode')\n",
        "plt.ylabel('Return')\n",
        "plt.title('Training Returns')\n",
        "plt.legend()\n",
        "\n",
        "plt.subplot(1,2,2)\n",
        "if len(losses)>0:\n",
        "    plt.plot(losses)\n",
        "    plt.yscale('log')\n",
        "    plt.xlabel('Gradient step')\n",
        "    plt.ylabel('MSE loss')\n",
        "    plt.title('Training loss (per gradient step)')\n",
        "else:\n",
        "    plt.text(0.5,0.5,'No loss recorded', ha='center')\n",
        "plt.tight_layout()\n",
        "plt.show()\n",
        "\n",
        "# Plot evaluation returns\n",
        "if len(eval_returns)>0:\n",
        "    eps_list = [e[0] for e in eval_returns]\n",
        "    eval_means = [e[1] for e in eval_returns]\n",
        "    plt.figure(figsize=(6,4))\n",
        "    plt.plot(eps_list, eval_means, marker='o')\n",
        "    plt.xlabel('Episode (eval)')\n",
        "    plt.ylabel('Mean eval return')\n",
        "    plt.title('Evaluation Returns over Training')\n",
        "    plt.grid(True)\n",
        "    plt.show()\n"
      ],
      "metadata": {
        "colab": {
          "base_uri": "https://localhost:8080/",
          "height": 800
        },
        "id": "jUFXrksGXHt5",
        "outputId": "d6fa728f-eaab-4ab6-db38-c8784a6deefc"
      },
      "execution_count": 8,
      "outputs": [
        {
          "output_type": "display_data",
          "data": {
            "text/plain": [
              "<Figure size 1000x400 with 2 Axes>"
            ],
            "image/png": "[encoded data removed]"
          },
          "metadata": {}
        },
        {
          "output_type": "display_data",
          "data": {
            "text/plain": [
              "<Figure size 600x400 with 1 Axes>"
            ],
            "image/png": "[encoded data removed]"
          },
          "metadata": {}
        }
      ]
    },
    {
      "cell_type": "code",
      "source": [
        "# Cell 9 — Save the model and figures\n",
        "os.makedirs('output', exist_ok=True)\n",
        "torch.save(results['Q'].state_dict(), 'output/qnet_model.pth')\n",
        "# Save plots to disk as well\n",
        "plt.figure(figsize=(8,3))\n",
        "plt.plot(train_returns, label='Episode return')\n",
        "ma = moving_average(train_returns, 20)\n",
        "plt.plot(range(len(ma)), ma, label='MA(20)')\n",
        "plt.legend()\n",
        "plt.title('Training Returns')\n",
        "plt.savefig('output/training_returns.png', dpi=150)\n",
        "plt.close()\n",
        "\n",
        "if len(losses)>0:\n",
        "    plt.figure(figsize=(8,3))\n",
        "    plt.plot(losses)\n",
        "    plt.yscale('log')\n",
        "    plt.title('Loss per gradient step')\n",
        "    plt.savefig('output/loss_curve.png', dpi=150)\n",
        "    plt.close()\n",
        "\n",
        "print(\"Saved model and plots to /content/output/\")\n"
      ],
      "metadata": {
        "colab": {
          "base_uri": "https://localhost:8080/"
        },
        "id": "T2QdC_IaXJoc",
        "outputId": "9686652e-41e0-4cc3-a214-295d712fe625"
      },
      "execution_count": 9,
      "outputs": [
        {
          "output_type": "stream",
          "name": "stdout",
          "text": [
            "Saved model and plots to /content/output/\n"
          ]
        }
      ]
    },
    {
      "cell_type": "code",
      "source": [
        "# Cell 10 — Quick policy visualization (print chosen actions at each cell)\n",
        "# Map actions to letters\n",
        "action_map = {0:'N',1:'S',2:'E',3:'W'}\n",
        "qnet = results['Q']\n",
        "qnet.eval()\n",
        "policy_grid = [['' for _ in range(env.cols)] for __ in range(env.rows)]\n",
        "for r in range(env.rows):\n",
        "    for c in range(env.cols):\n",
        "        pos = (r,c)\n",
        "        if env.is_terminal_pos(pos):\n",
        "            policy_grid[r][c] = 'G' if pos==env.terminal_goal else 'T'\n",
        "        else:\n",
        "            vec = np.zeros(env.state_size, dtype=np.float32)\n",
        "            vec[env._pos_to_index(pos)] = 1.0\n",
        "            s_t = torch.tensor(vec, dtype=torch.float32, device=device).unsqueeze(0)\n",
        "            with torch.no_grad():\n",
        "                qvals = qnet(s_t)\n",
        "            a = int(torch.argmax(qvals, dim=1).item())\n",
        "            policy_grid[r][c] = action_map[a]\n",
        "\n",
        "print(\"Policy grid (rows top->bottom):\")\n",
        "for row in policy_grid:\n",
        "    print(row)\n"
      ],
      "metadata": {
        "colab": {
          "base_uri": "https://localhost:8080/"
        },
        "id": "-eXKauZ_XKDg",
        "outputId": "800b1730-41dd-4681-8ad8-447bc91ce2dd"
      },
      "execution_count": 10,
      "outputs": [
        {
          "output_type": "stream",
          "name": "stdout",
          "text": [
            "Policy grid (rows top->bottom):\n",
            "['E', 'E', 'E', 'G']\n",
            "['N', 'N', 'W', 'T']\n",
            "['N', 'N', 'W', 'S']\n"
          ]
        }
      ]
    },
    {
      "cell_type": "code",
      "source": [],
      "metadata": {
        "id": "8WFkUwhwXmGv"
      },
      "execution_count": null,
      "outputs": []
    }
  ]
}